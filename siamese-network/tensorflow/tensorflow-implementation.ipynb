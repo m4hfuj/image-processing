{
 "cells": [
  {
   "cell_type": "code",
   "execution_count": 39,
   "id": "b774e99f",
   "metadata": {},
   "outputs": [],
   "source": [
    "import tensorflow as tf\n",
    "from keras.datasets import mnist\n",
    "from keras.layers import *\n",
    "from keras.models import Sequential, Model"
   ]
  },
  {
   "cell_type": "code",
   "execution_count": 40,
   "id": "9fdd298c",
   "metadata": {},
   "outputs": [],
   "source": [
    "(X_train, y_train), (X_test, y_test) = mnist.load_data()"
   ]
  },
  {
   "cell_type": "markdown",
   "id": "f7eba241",
   "metadata": {},
   "source": [
    "# Data Preparation"
   ]
  },
  {
   "cell_type": "code",
   "execution_count": 73,
   "id": "626d57cd",
   "metadata": {},
   "outputs": [
    {
     "name": "stdout",
     "output_type": "stream",
     "text": [
      "Model: \"model_4\"\n",
      "__________________________________________________________________________________________________\n",
      " Layer (type)                Output Shape                 Param #   Connected to                  \n",
      "==================================================================================================\n",
      " img_a (InputLayer)          [(None, 28, 28)]             0         []                            \n",
      "                                                                                                  \n",
      " img_b (InputLayer)          [(None, 28, 28)]             0         []                            \n",
      "                                                                                                  \n",
      " sequential_26 (Sequential)  (None, 64)                   81184     ['img_a[0][0]',               \n",
      "                                                                     'img_b[0][0]']               \n",
      "                                                                                                  \n",
      " concatenate_5 (Concatenate  (None, 128)                  0         ['sequential_26[0][0]',       \n",
      " )                                                                   'sequential_26[1][0]']       \n",
      "                                                                                                  \n",
      " dense_16 (Dense)            (None, 64)                   8256      ['concatenate_5[0][0]']       \n",
      "                                                                                                  \n",
      " dense_17 (Dense)            (None, 1)                    65        ['dense_16[0][0]']            \n",
      "                                                                                                  \n",
      "==================================================================================================\n",
      "Total params: 89505 (349.63 KB)\n",
      "Trainable params: 89121 (348.13 KB)\n",
      "Non-trainable params: 384 (1.50 KB)\n",
      "__________________________________________________________________________________________________\n"
     ]
    }
   ],
   "source": [
    "img_a = Input((28,28), name='img_a')\n",
    "img_b = Input((28,28), name='img_b')\n",
    "\n",
    "def get_cnn_block(depth):\n",
    "    return Sequential([\n",
    "        Conv2D(depth, 3, 1),\n",
    "        BatchNormalization(),\n",
    "        ReLU()\n",
    "    ])\n",
    "\n",
    "DEPTH = 32\n",
    "\n",
    "cnn = Sequential([\n",
    "    Reshape((28,28,1)),\n",
    "    get_cnn_block(DEPTH),\n",
    "    get_cnn_block(DEPTH*2),\n",
    "    get_cnn_block(DEPTH*3),\n",
    "    GlobalAveragePooling2D(),\n",
    "    Dense(64, activation='relu')\n",
    "])\n",
    "\n",
    "feature_vector_a = cnn(img_a)\n",
    "feature_vector_b = cnn(img_b)\n",
    "\n",
    "concat = Concatenate()([feature_vector_a, feature_vector_b])\n",
    "\n",
    "dense = Dense(64, activation='relu')(concat)\n",
    "\n",
    "output = Dense(1, activation='sigmoid')(dense)\n",
    "\n",
    "model = Model(inputs=[img_a, img_b], outputs=output)\n",
    "\n",
    "model.summary()"
   ]
  },
  {
   "cell_type": "code",
   "execution_count": 74,
   "id": "8927306f",
   "metadata": {},
   "outputs": [
    {
     "data": {
      "text/plain": [
       "((200, 28, 28), (200,))"
      ]
     },
     "execution_count": 74,
     "metadata": {},
     "output_type": "execute_result"
    }
   ],
   "source": [
    "import numpy as np\n",
    "\n",
    "random_indices = np.random.choice(X_train.shape[0], 200, replace=False)\n",
    "\n",
    "X_train_sample, y_train_sample = X_train[random_indices], y_train[random_indices]\n",
    "\n",
    "X_train_sample.shape, y_train_sample.shape"
   ]
  },
  {
   "cell_type": "code",
   "execution_count": 75,
   "id": "82f099c6",
   "metadata": {},
   "outputs": [],
   "source": [
    "import itertools\n",
    "\n",
    "def make_paired_dataset(X, y):\n",
    "    X_pairs, y_pairs = [], []\n",
    "    \n",
    "    tuples = [(x1, y1) for x1, y1 in zip(X, y)]\n",
    "    \n",
    "    for t in itertools.product(tuples, tuples):\n",
    "        pair_A, pair_A = t\n",
    "        img_A, label_A = t[0]\n",
    "        img_B, label_B = t[1]\n",
    "        \n",
    "        new_label = int(label_A == label_B)\n",
    "        \n",
    "        X_pairs.append([img_A, img_B])\n",
    "        y_pairs.append(new_label)\n",
    "        \n",
    "    X_pairs = np.array(X_pairs)\n",
    "    y_pairs = np.array(y_pairs)\n",
    "    \n",
    "    return X_pairs, y_pairs"
   ]
  },
  {
   "cell_type": "code",
   "execution_count": 76,
   "id": "7b517a33",
   "metadata": {},
   "outputs": [
    {
     "data": {
      "text/plain": [
       "((40000, 2, 28, 28), (40000,))"
      ]
     },
     "execution_count": 76,
     "metadata": {},
     "output_type": "execute_result"
    }
   ],
   "source": [
    "X_train_pairs, y_train_pairs = make_paired_dataset(X_train_sample, y_train_sample)\n",
    "\n",
    "X_train_pairs.shape, y_train_pairs.shape"
   ]
  },
  {
   "cell_type": "code",
   "execution_count": 77,
   "id": "8b00108b",
   "metadata": {},
   "outputs": [
    {
     "data": {
      "text/plain": [
       "((50, 28, 28), (50,))"
      ]
     },
     "execution_count": 77,
     "metadata": {},
     "output_type": "execute_result"
    }
   ],
   "source": [
    "random_indices = np.random.choice(X_test.shape[0], 50, replace=False)\n",
    "\n",
    "X_test_sample, y_test_sample = X_test[random_indices], y_test[random_indices]\n",
    "\n",
    "X_test_sample.shape, y_test_sample.shape"
   ]
  },
  {
   "cell_type": "code",
   "execution_count": 78,
   "id": "4cf03904",
   "metadata": {},
   "outputs": [
    {
     "data": {
      "text/plain": [
       "((2500, 2, 28, 28), (2500,))"
      ]
     },
     "execution_count": 78,
     "metadata": {},
     "output_type": "execute_result"
    }
   ],
   "source": [
    "X_test_pairs, y_test_pairs = make_paired_dataset(X_test_sample, y_test_sample)\n",
    "\n",
    "X_test_pairs.shape, y_test_pairs.shape"
   ]
  },
  {
   "cell_type": "markdown",
   "id": "0a7c9e74",
   "metadata": {},
   "source": [
    "# Model Training"
   ]
  },
  {
   "cell_type": "code",
   "execution_count": 79,
   "id": "2a390f3b",
   "metadata": {},
   "outputs": [],
   "source": [
    "model.compile(loss='binary_crossentropy',\n",
    "              optimizer=tf.keras.optimizers.Adam(learning_rate=0.001),\n",
    "              metrics=['accuracy'])"
   ]
  },
  {
   "cell_type": "code",
   "execution_count": 80,
   "id": "fc186f95",
   "metadata": {},
   "outputs": [],
   "source": [
    "from tensorflow.keras.callbacks import EarlyStopping, ModelCheckpoint\n",
    "\n",
    "es = EarlyStopping(patience=3)\n",
    "\n",
    "cp_callback = ModelCheckpoint(filepath='model.cptk',\n",
    "                              save_weights_only=True,\n",
    "                              verbose=1)"
   ]
  },
  {
   "cell_type": "code",
   "execution_count": 83,
   "id": "a57bd2ce",
   "metadata": {
    "scrolled": false
   },
   "outputs": [
    {
     "name": "stdout",
     "output_type": "stream",
     "text": [
      "Epoch 1/4\n",
      "1250/1250 [==============================] - ETA: 0s - loss: 0.2470 - accuracy: 0.9108\n",
      "Epoch 1: saving model to model.cptk\n",
      "1250/1250 [==============================] - 314s 251ms/step - loss: 0.2470 - accuracy: 0.9108 - val_loss: 0.3039 - val_accuracy: 0.8884\n",
      "Epoch 2/4\n",
      "1250/1250 [==============================] - ETA: 0s - loss: 0.2041 - accuracy: 0.9141\n",
      "Epoch 2: saving model to model.cptk\n",
      "1250/1250 [==============================] - 316s 253ms/step - loss: 0.2041 - accuracy: 0.9141 - val_loss: 0.2766 - val_accuracy: 0.8884\n",
      "Epoch 3/4\n",
      "1250/1250 [==============================] - ETA: 0s - loss: 0.1384 - accuracy: 0.9380\n",
      "Epoch 3: saving model to model.cptk\n",
      "1250/1250 [==============================] - 315s 252ms/step - loss: 0.1384 - accuracy: 0.9380 - val_loss: 0.2533 - val_accuracy: 0.9092\n",
      "Epoch 4/4\n",
      "1250/1250 [==============================] - ETA: 0s - loss: 0.0772 - accuracy: 0.9681\n",
      "Epoch 4: saving model to model.cptk\n",
      "1250/1250 [==============================] - 313s 250ms/step - loss: 0.0772 - accuracy: 0.9681 - val_loss: 0.2925 - val_accuracy: 0.8976\n"
     ]
    },
    {
     "data": {
      "text/plain": [
       "<keras.src.callbacks.History at 0x7f18e787fb20>"
      ]
     },
     "execution_count": 83,
     "metadata": {},
     "output_type": "execute_result"
    }
   ],
   "source": [
    "model.fit(x=[X_train_pairs[:,0,:,:], X_train_pairs[:,1,:,:]],\n",
    "          y=y_train_pairs,\n",
    "          validation_data=([X_test_pairs[:,0,:,:], X_test_pairs[:,1,:,:]],\n",
    "                           y_test_pairs),\n",
    "          epochs = 4,\n",
    "          batch_size = 32,\n",
    "          callbacks=[es, cp_callback])"
   ]
  },
  {
   "cell_type": "code",
   "execution_count": 84,
   "id": "470d48a0",
   "metadata": {},
   "outputs": [],
   "source": [
    "model.save_weights('model_0.cptk')"
   ]
  },
  {
   "cell_type": "code",
   "execution_count": null,
   "id": "1bd4d50b",
   "metadata": {},
   "outputs": [],
   "source": []
  }
 ],
 "metadata": {
  "kernelspec": {
   "display_name": "Python 3 (ipykernel)",
   "language": "python",
   "name": "python3"
  },
  "language_info": {
   "codemirror_mode": {
    "name": "ipython",
    "version": 3
   },
   "file_extension": ".py",
   "mimetype": "text/x-python",
   "name": "python",
   "nbconvert_exporter": "python",
   "pygments_lexer": "ipython3",
   "version": "3.11.5"
  }
 },
 "nbformat": 4,
 "nbformat_minor": 5
}
